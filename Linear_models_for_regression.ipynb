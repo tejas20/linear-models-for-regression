{
  "nbformat": 4,
  "nbformat_minor": 0,
  "metadata": {
    "colab": {
      "name": "Task_1_Linear_models_for_regression.ipynb",
      "provenance": [],
      "collapsed_sections": []
    },
    "kernelspec": {
      "name": "python3",
      "display_name": "Python 3"
    },
    "language_info": {
      "name": "python"
    }
  },
  "cells": [
    {
      "cell_type": "markdown",
      "metadata": {
        "id": "-A5BBIhDlBbH"
      },
      "source": [
        "# Linear models for regression\n"
      ]
    },
    {
      "cell_type": "markdown",
      "metadata": {
        "id": "8z_5teMQ3Z90"
      },
      "source": [
        "###  a) Data Import:"
      ]
    },
    {
      "cell_type": "markdown",
      "metadata": {
        "id": "JALj43Rm3-3h"
      },
      "source": [
        "1. Importing necessary libraries"
      ]
    },
    {
      "cell_type": "code",
      "metadata": {
        "id": "7Jd1gXgkjxNg"
      },
      "source": [
        "import numpy as np  # For numerical operations on large quantities of data\n",
        "import pandas as pd # For data manipulation and analysis\n",
        "\n",
        "import matplotlib.pyplot as plt\n",
        "import seaborn as sns\n",
        "\n",
        "from sklearn.preprocessing import StandardScaler\n",
        "from sklearn.model_selection import train_test_split, cross_val_score, GridSearchCV\n",
        "from sklearn.linear_model import LinearRegression, Ridge, Lasso\n",
        "from sklearn.metrics import mean_squared_error, mean_absolute_error, r2_score"
      ],
      "execution_count": null,
      "outputs": []
    },
    {
      "cell_type": "markdown",
      "metadata": {
        "id": "y4hjHITW1Fis"
      },
      "source": [
        "2. Reading the data and storing it into a DataFrame"
      ]
    },
    {
      "cell_type": "code",
      "metadata": {
        "id": "439OSCerlYrX"
      },
      "source": [
        "df = pd.read_csv(\"/content/soybean_tabular.csv\")"
      ],
      "execution_count": null,
      "outputs": []
    },
    {
      "cell_type": "markdown",
      "metadata": {
        "id": "MKs7YUjf1auy"
      },
      "source": [
        "3. Data preview"
      ]
    },
    {
      "cell_type": "code",
      "metadata": {
        "colab": {
          "base_uri": "https://localhost:8080/",
          "height": 204
        },
        "id": "NiNyhzzHlkT-",
        "outputId": "44ec0111-7276-45ad-a813-2c8cfdd8e5e3"
      },
      "source": [
        "df.head()"
      ],
      "execution_count": null,
      "outputs": [
        {
          "output_type": "execute_result",
          "data": {
            "text/html": [
              "<div>\n",
              "<style scoped>\n",
              "    .dataframe tbody tr th:only-of-type {\n",
              "        vertical-align: middle;\n",
              "    }\n",
              "\n",
              "    .dataframe tbody tr th {\n",
              "        vertical-align: top;\n",
              "    }\n",
              "\n",
              "    .dataframe thead th {\n",
              "        text-align: right;\n",
              "    }\n",
              "</style>\n",
              "<table border=\"1\" class=\"dataframe\">\n",
              "  <thead>\n",
              "    <tr style=\"text-align: right;\">\n",
              "      <th></th>\n",
              "      <th>Variety</th>\n",
              "      <th>S_1</th>\n",
              "      <th>S_2</th>\n",
              "      <th>S_3</th>\n",
              "      <th>S_4</th>\n",
              "      <th>M_1</th>\n",
              "      <th>M_2</th>\n",
              "      <th>M_3</th>\n",
              "      <th>W_1</th>\n",
              "      <th>W_2</th>\n",
              "      <th>W_3</th>\n",
              "      <th>W_4</th>\n",
              "      <th>Yield</th>\n",
              "    </tr>\n",
              "  </thead>\n",
              "  <tbody>\n",
              "    <tr>\n",
              "      <th>0</th>\n",
              "      <td>1</td>\n",
              "      <td>4.0900</td>\n",
              "      <td>15.3</td>\n",
              "      <td>396.90</td>\n",
              "      <td>4.98</td>\n",
              "      <td>0.00632</td>\n",
              "      <td>18.0</td>\n",
              "      <td>6.575</td>\n",
              "      <td>2.381979</td>\n",
              "      <td>0.475522</td>\n",
              "      <td>65.2</td>\n",
              "      <td>296.350195</td>\n",
              "      <td>24.0</td>\n",
              "    </tr>\n",
              "    <tr>\n",
              "      <th>1</th>\n",
              "      <td>2</td>\n",
              "      <td>4.9671</td>\n",
              "      <td>17.8</td>\n",
              "      <td>396.90</td>\n",
              "      <td>9.14</td>\n",
              "      <td>0.02731</td>\n",
              "      <td>0.0</td>\n",
              "      <td>6.421</td>\n",
              "      <td>7.071148</td>\n",
              "      <td>0.509165</td>\n",
              "      <td>78.9</td>\n",
              "      <td>241.620198</td>\n",
              "      <td>21.6</td>\n",
              "    </tr>\n",
              "    <tr>\n",
              "      <th>2</th>\n",
              "      <td>2</td>\n",
              "      <td>4.9671</td>\n",
              "      <td>17.8</td>\n",
              "      <td>392.83</td>\n",
              "      <td>4.03</td>\n",
              "      <td>0.02729</td>\n",
              "      <td>0.0</td>\n",
              "      <td>7.185</td>\n",
              "      <td>6.896941</td>\n",
              "      <td>0.580673</td>\n",
              "      <td>61.1</td>\n",
              "      <td>241.551476</td>\n",
              "      <td>34.7</td>\n",
              "    </tr>\n",
              "    <tr>\n",
              "      <th>3</th>\n",
              "      <td>3</td>\n",
              "      <td>6.0622</td>\n",
              "      <td>18.7</td>\n",
              "      <td>394.63</td>\n",
              "      <td>2.94</td>\n",
              "      <td>0.03237</td>\n",
              "      <td>0.0</td>\n",
              "      <td>6.998</td>\n",
              "      <td>2.237817</td>\n",
              "      <td>0.491539</td>\n",
              "      <td>45.8</td>\n",
              "      <td>222.023994</td>\n",
              "      <td>33.4</td>\n",
              "    </tr>\n",
              "    <tr>\n",
              "      <th>4</th>\n",
              "      <td>3</td>\n",
              "      <td>6.0622</td>\n",
              "      <td>18.7</td>\n",
              "      <td>396.90</td>\n",
              "      <td>5.33</td>\n",
              "      <td>0.06905</td>\n",
              "      <td>0.0</td>\n",
              "      <td>7.147</td>\n",
              "      <td>1.979327</td>\n",
              "      <td>0.103660</td>\n",
              "      <td>54.2</td>\n",
              "      <td>221.723972</td>\n",
              "      <td>36.2</td>\n",
              "    </tr>\n",
              "  </tbody>\n",
              "</table>\n",
              "</div>"
            ],
            "text/plain": [
              "   Variety     S_1   S_2     S_3  ...       W_2   W_3         W_4  Yield\n",
              "0        1  4.0900  15.3  396.90  ...  0.475522  65.2  296.350195   24.0\n",
              "1        2  4.9671  17.8  396.90  ...  0.509165  78.9  241.620198   21.6\n",
              "2        2  4.9671  17.8  392.83  ...  0.580673  61.1  241.551476   34.7\n",
              "3        3  6.0622  18.7  394.63  ...  0.491539  45.8  222.023994   33.4\n",
              "4        3  6.0622  18.7  396.90  ...  0.103660  54.2  221.723972   36.2\n",
              "\n",
              "[5 rows x 13 columns]"
            ]
          },
          "metadata": {},
          "execution_count": 3
        }
      ]
    },
    {
      "cell_type": "markdown",
      "metadata": {
        "id": "Yxnf6XkV1fYn"
      },
      "source": [
        "4. Checking the shape of the DataFrame."
      ]
    },
    {
      "cell_type": "code",
      "metadata": {
        "colab": {
          "base_uri": "https://localhost:8080/"
        },
        "id": "qXq8KHC8_DhI",
        "outputId": "4264e55d-21f3-460a-bfd7-bc19063437c8"
      },
      "source": [
        "df.shape"
      ],
      "execution_count": null,
      "outputs": [
        {
          "output_type": "execute_result",
          "data": {
            "text/plain": [
              "(506, 13)"
            ]
          },
          "metadata": {},
          "execution_count": 4
        }
      ]
    },
    {
      "cell_type": "markdown",
      "metadata": {
        "id": "pixisByd1kfe"
      },
      "source": [
        "5. Describing the data to get a glance at statistical summary and distribution of values."
      ]
    },
    {
      "cell_type": "code",
      "metadata": {
        "colab": {
          "base_uri": "https://localhost:8080/",
          "height": 297
        },
        "id": "e4X_4X6Slm9s",
        "outputId": "216d771f-5844-490b-e92d-4554f4d52237"
      },
      "source": [
        "df.describe()"
      ],
      "execution_count": null,
      "outputs": [
        {
          "output_type": "execute_result",
          "data": {
            "text/html": [
              "<div>\n",
              "<style scoped>\n",
              "    .dataframe tbody tr th:only-of-type {\n",
              "        vertical-align: middle;\n",
              "    }\n",
              "\n",
              "    .dataframe tbody tr th {\n",
              "        vertical-align: top;\n",
              "    }\n",
              "\n",
              "    .dataframe thead th {\n",
              "        text-align: right;\n",
              "    }\n",
              "</style>\n",
              "<table border=\"1\" class=\"dataframe\">\n",
              "  <thead>\n",
              "    <tr style=\"text-align: right;\">\n",
              "      <th></th>\n",
              "      <th>Variety</th>\n",
              "      <th>S_1</th>\n",
              "      <th>S_2</th>\n",
              "      <th>S_3</th>\n",
              "      <th>S_4</th>\n",
              "      <th>M_1</th>\n",
              "      <th>M_2</th>\n",
              "      <th>M_3</th>\n",
              "      <th>W_1</th>\n",
              "      <th>W_2</th>\n",
              "      <th>W_3</th>\n",
              "      <th>W_4</th>\n",
              "      <th>Yield</th>\n",
              "    </tr>\n",
              "  </thead>\n",
              "  <tbody>\n",
              "    <tr>\n",
              "      <th>count</th>\n",
              "      <td>506.000000</td>\n",
              "      <td>506.000000</td>\n",
              "      <td>506.000000</td>\n",
              "      <td>506.000000</td>\n",
              "      <td>506.000000</td>\n",
              "      <td>506.000000</td>\n",
              "      <td>506.000000</td>\n",
              "      <td>506.000000</td>\n",
              "      <td>506.000000</td>\n",
              "      <td>506.000000</td>\n",
              "      <td>506.000000</td>\n",
              "      <td>506.000000</td>\n",
              "      <td>506.000000</td>\n",
              "    </tr>\n",
              "    <tr>\n",
              "      <th>mean</th>\n",
              "      <td>9.549407</td>\n",
              "      <td>3.795043</td>\n",
              "      <td>18.455534</td>\n",
              "      <td>356.674032</td>\n",
              "      <td>12.653063</td>\n",
              "      <td>3.613524</td>\n",
              "      <td>11.363636</td>\n",
              "      <td>6.284634</td>\n",
              "      <td>11.131488</td>\n",
              "      <td>0.551258</td>\n",
              "      <td>68.574901</td>\n",
              "      <td>408.252839</td>\n",
              "      <td>22.532806</td>\n",
              "    </tr>\n",
              "    <tr>\n",
              "      <th>std</th>\n",
              "      <td>8.707259</td>\n",
              "      <td>2.105710</td>\n",
              "      <td>2.164946</td>\n",
              "      <td>91.294864</td>\n",
              "      <td>7.141062</td>\n",
              "      <td>8.601545</td>\n",
              "      <td>23.322453</td>\n",
              "      <td>0.702617</td>\n",
              "      <td>6.868654</td>\n",
              "      <td>0.181693</td>\n",
              "      <td>28.148861</td>\n",
              "      <td>168.530578</td>\n",
              "      <td>9.197104</td>\n",
              "    </tr>\n",
              "    <tr>\n",
              "      <th>min</th>\n",
              "      <td>1.000000</td>\n",
              "      <td>1.129600</td>\n",
              "      <td>12.600000</td>\n",
              "      <td>0.320000</td>\n",
              "      <td>1.730000</td>\n",
              "      <td>0.006320</td>\n",
              "      <td>0.000000</td>\n",
              "      <td>3.561000</td>\n",
              "      <td>0.472905</td>\n",
              "      <td>0.103660</td>\n",
              "      <td>2.900000</td>\n",
              "      <td>186.765075</td>\n",
              "      <td>5.000000</td>\n",
              "    </tr>\n",
              "    <tr>\n",
              "      <th>25%</th>\n",
              "      <td>4.000000</td>\n",
              "      <td>2.100175</td>\n",
              "      <td>17.400000</td>\n",
              "      <td>375.377500</td>\n",
              "      <td>6.950000</td>\n",
              "      <td>0.082045</td>\n",
              "      <td>0.000000</td>\n",
              "      <td>5.885500</td>\n",
              "      <td>5.149096</td>\n",
              "      <td>0.422286</td>\n",
              "      <td>45.025000</td>\n",
              "      <td>278.745884</td>\n",
              "      <td>17.025000</td>\n",
              "    </tr>\n",
              "    <tr>\n",
              "      <th>50%</th>\n",
              "      <td>5.000000</td>\n",
              "      <td>3.207450</td>\n",
              "      <td>19.050000</td>\n",
              "      <td>391.440000</td>\n",
              "      <td>11.360000</td>\n",
              "      <td>0.256510</td>\n",
              "      <td>0.000000</td>\n",
              "      <td>6.208500</td>\n",
              "      <td>9.588040</td>\n",
              "      <td>0.528133</td>\n",
              "      <td>77.500000</td>\n",
              "      <td>330.467783</td>\n",
              "      <td>21.200000</td>\n",
              "    </tr>\n",
              "    <tr>\n",
              "      <th>75%</th>\n",
              "      <td>24.000000</td>\n",
              "      <td>5.188425</td>\n",
              "      <td>20.200000</td>\n",
              "      <td>396.225000</td>\n",
              "      <td>16.955000</td>\n",
              "      <td>3.677082</td>\n",
              "      <td>12.500000</td>\n",
              "      <td>6.623500</td>\n",
              "      <td>18.094315</td>\n",
              "      <td>0.668573</td>\n",
              "      <td>94.075000</td>\n",
              "      <td>665.354401</td>\n",
              "      <td>25.000000</td>\n",
              "    </tr>\n",
              "    <tr>\n",
              "      <th>max</th>\n",
              "      <td>24.000000</td>\n",
              "      <td>12.126500</td>\n",
              "      <td>22.000000</td>\n",
              "      <td>396.900000</td>\n",
              "      <td>37.970000</td>\n",
              "      <td>88.976200</td>\n",
              "      <td>100.000000</td>\n",
              "      <td>8.780000</td>\n",
              "      <td>28.074197</td>\n",
              "      <td>1.158538</td>\n",
              "      <td>100.000000</td>\n",
              "      <td>711.210992</td>\n",
              "      <td>50.000000</td>\n",
              "    </tr>\n",
              "  </tbody>\n",
              "</table>\n",
              "</div>"
            ],
            "text/plain": [
              "          Variety         S_1         S_2  ...         W_3         W_4       Yield\n",
              "count  506.000000  506.000000  506.000000  ...  506.000000  506.000000  506.000000\n",
              "mean     9.549407    3.795043   18.455534  ...   68.574901  408.252839   22.532806\n",
              "std      8.707259    2.105710    2.164946  ...   28.148861  168.530578    9.197104\n",
              "min      1.000000    1.129600   12.600000  ...    2.900000  186.765075    5.000000\n",
              "25%      4.000000    2.100175   17.400000  ...   45.025000  278.745884   17.025000\n",
              "50%      5.000000    3.207450   19.050000  ...   77.500000  330.467783   21.200000\n",
              "75%     24.000000    5.188425   20.200000  ...   94.075000  665.354401   25.000000\n",
              "max     24.000000   12.126500   22.000000  ...  100.000000  711.210992   50.000000\n",
              "\n",
              "[8 rows x 13 columns]"
            ]
          },
          "metadata": {},
          "execution_count": 5
        }
      ]
    },
    {
      "cell_type": "markdown",
      "metadata": {
        "id": "lHXrKHqr1tgU"
      },
      "source": [
        "6. Checking for null or missing values."
      ]
    },
    {
      "cell_type": "code",
      "metadata": {
        "colab": {
          "base_uri": "https://localhost:8080/"
        },
        "id": "qpRGPrY0l_SM",
        "outputId": "05b0afd8-0f75-4221-b70e-ff912cd44728"
      },
      "source": [
        "df.isnull().values.any()"
      ],
      "execution_count": null,
      "outputs": [
        {
          "output_type": "execute_result",
          "data": {
            "text/plain": [
              "False"
            ]
          },
          "metadata": {},
          "execution_count": 6
        }
      ]
    },
    {
      "cell_type": "markdown",
      "metadata": {
        "id": "pGuW6a9I1z0Y"
      },
      "source": [
        "### b) Data pre-processing"
      ]
    },
    {
      "cell_type": "markdown",
      "metadata": {
        "id": "9L6NLBx9ggLf"
      },
      "source": [
        "1. visualising distribution of data"
      ]
    },
    {
      "cell_type": "code",
      "metadata": {
        "colab": {
          "base_uri": "https://localhost:8080/",
          "height": 296
        },
        "id": "tB-9mwdLc-At",
        "outputId": "15e7e0be-49f1-41d1-bafb-cff4d17afe76"
      },
      "source": [
        "sns.histplot(data=df, x=\"Yield\", kde=True)"
      ],
      "execution_count": null,
      "outputs": [
        {
          "output_type": "execute_result",
          "data": {
            "text/plain": [
              "<matplotlib.axes._subplots.AxesSubplot at 0x7f379562a310>"
            ]
          },
          "metadata": {},
          "execution_count": 7
        },
        {
          "output_type": "display_data",
          "data": {
            "image/png": "[encoded data removed]",
            "text/plain": [
              "<Figure size 432x288 with 1 Axes>"
            ]
          },
          "metadata": {
            "needs_background": "light"
          }
        }
      ]
    },
    {
      "cell_type": "code",
      "metadata": {
        "colab": {
          "base_uri": "https://localhost:8080/",
          "height": 313
        },
        "id": "5VQW8eacd2Ft",
        "outputId": "92982041-af9b-40b2-9a16-8dbf1d6969e4"
      },
      "source": [
        "from statsmodels.graphics.gofplots import qqplot\n",
        "qqplot(df['S_3'], line='s')\n",
        "plt.show()"
      ],
      "execution_count": null,
      "outputs": [
        {
          "output_type": "stream",
          "name": "stderr",
          "text": [
            "/usr/local/lib/python3.7/dist-packages/statsmodels/tools/_testing.py:19: FutureWarning: pandas.util.testing is deprecated. Use the functions in the public API at pandas.testing instead.\n",
            "  import pandas.util.testing as tm\n"
          ]
        },
        {
          "output_type": "display_data",
          "data": {
            "image/png": "[encoded data removed]",
            "text/plain": [
              "<Figure size 432x288 with 1 Axes>"
            ]
          },
          "metadata": {
            "needs_background": "light"
          }
        }
      ]
    },
    {
      "cell_type": "code",
      "metadata": {
        "colab": {
          "base_uri": "https://localhost:8080/",
          "height": 279
        },
        "id": "bHo7mlpxlTf1",
        "outputId": "59780622-c556-46e5-e50f-528f1dd230d6"
      },
      "source": [
        "qqplot(df['S_2'], line='s')\n",
        "plt.show()"
      ],
      "execution_count": null,
      "outputs": [
        {
          "output_type": "display_data",
          "data": {
            "image/png": "[encoded data removed]",
            "text/plain": [
              "<Figure size 432x288 with 1 Axes>"
            ]
          },
          "metadata": {
            "needs_background": "light"
          }
        }
      ]
    },
    {
      "cell_type": "code",
      "metadata": {
        "id": "oVsLnqTSHK2k"
      },
      "source": [
        "# Experimented with Standardization\n",
        "y = df['Yield'] #dependant feature\n",
        "# axis 1 tells python that you want to apply function on columns\n",
        "std = StandardScaler()\n",
        "X = pd.DataFrame(std.fit_transform(df.drop(['Yield'], axis=1))) # independant features,\n",
        "\n",
        "\n",
        "# # Experimented with Normalization\n",
        "\n",
        "# y = df['Yield'] #dependant feature\n",
        "# normalized_df=(df-df.min())/(df.max()-df.min()) # implemented formula for normalization\n",
        "# X = normalized_df.drop(['Yield'], axis=1) # independant features"
      ],
      "execution_count": null,
      "outputs": []
    },
    {
      "cell_type": "code",
      "metadata": {
        "colab": {
          "base_uri": "https://localhost:8080/",
          "height": 204
        },
        "id": "FxuSe4x8lv-n",
        "outputId": "fcac63dd-4feb-4056-e0d0-5c8321a44bc7"
      },
      "source": [
        "X.head()"
      ],
      "execution_count": null,
      "outputs": [
        {
          "output_type": "execute_result",
          "data": {
            "text/html": [
              "<div>\n",
              "<style scoped>\n",
              "    .dataframe tbody tr th:only-of-type {\n",
              "        vertical-align: middle;\n",
              "    }\n",
              "\n",
              "    .dataframe tbody tr th {\n",
              "        vertical-align: top;\n",
              "    }\n",
              "\n",
              "    .dataframe thead th {\n",
              "        text-align: right;\n",
              "    }\n",
              "</style>\n",
              "<table border=\"1\" class=\"dataframe\">\n",
              "  <thead>\n",
              "    <tr style=\"text-align: right;\">\n",
              "      <th></th>\n",
              "      <th>0</th>\n",
              "      <th>1</th>\n",
              "      <th>2</th>\n",
              "      <th>3</th>\n",
              "      <th>4</th>\n",
              "      <th>5</th>\n",
              "      <th>6</th>\n",
              "      <th>7</th>\n",
              "      <th>8</th>\n",
              "      <th>9</th>\n",
              "      <th>10</th>\n",
              "      <th>11</th>\n",
              "    </tr>\n",
              "  </thead>\n",
              "  <tbody>\n",
              "    <tr>\n",
              "      <th>0</th>\n",
              "      <td>-0.982843</td>\n",
              "      <td>0.140214</td>\n",
              "      <td>-1.459000</td>\n",
              "      <td>0.441052</td>\n",
              "      <td>-1.075562</td>\n",
              "      <td>-0.419782</td>\n",
              "      <td>0.284830</td>\n",
              "      <td>0.413672</td>\n",
              "      <td>-1.275092</td>\n",
              "      <td>-0.417242</td>\n",
              "      <td>-0.120013</td>\n",
              "      <td>-0.664647</td>\n",
              "    </tr>\n",
              "    <tr>\n",
              "      <th>1</th>\n",
              "      <td>-0.867883</td>\n",
              "      <td>0.557160</td>\n",
              "      <td>-0.303094</td>\n",
              "      <td>0.441052</td>\n",
              "      <td>-0.492439</td>\n",
              "      <td>-0.417339</td>\n",
              "      <td>-0.487722</td>\n",
              "      <td>0.194274</td>\n",
              "      <td>-0.591726</td>\n",
              "      <td>-0.231899</td>\n",
              "      <td>0.367166</td>\n",
              "      <td>-0.989717</td>\n",
              "    </tr>\n",
              "    <tr>\n",
              "      <th>2</th>\n",
              "      <td>-0.867883</td>\n",
              "      <td>0.557160</td>\n",
              "      <td>-0.303094</td>\n",
              "      <td>0.396427</td>\n",
              "      <td>-1.208727</td>\n",
              "      <td>-0.417342</td>\n",
              "      <td>-0.487722</td>\n",
              "      <td>1.282714</td>\n",
              "      <td>-0.617113</td>\n",
              "      <td>0.162055</td>\n",
              "      <td>-0.265812</td>\n",
              "      <td>-0.990125</td>\n",
              "    </tr>\n",
              "    <tr>\n",
              "      <th>3</th>\n",
              "      <td>-0.752922</td>\n",
              "      <td>1.077737</td>\n",
              "      <td>0.113032</td>\n",
              "      <td>0.416163</td>\n",
              "      <td>-1.361517</td>\n",
              "      <td>-0.416750</td>\n",
              "      <td>-0.487722</td>\n",
              "      <td>1.016303</td>\n",
              "      <td>-1.296102</td>\n",
              "      <td>-0.329004</td>\n",
              "      <td>-0.809889</td>\n",
              "      <td>-1.106109</td>\n",
              "    </tr>\n",
              "    <tr>\n",
              "      <th>4</th>\n",
              "      <td>-0.752922</td>\n",
              "      <td>1.077737</td>\n",
              "      <td>0.113032</td>\n",
              "      <td>0.441052</td>\n",
              "      <td>-1.026501</td>\n",
              "      <td>-0.412482</td>\n",
              "      <td>-0.487722</td>\n",
              "      <td>1.228577</td>\n",
              "      <td>-1.333772</td>\n",
              "      <td>-2.465920</td>\n",
              "      <td>-0.511180</td>\n",
              "      <td>-1.107891</td>\n",
              "    </tr>\n",
              "  </tbody>\n",
              "</table>\n",
              "</div>"
            ],
            "text/plain": [
              "         0         1         2   ...        9         10        11\n",
              "0 -0.982843  0.140214 -1.459000  ... -0.417242 -0.120013 -0.664647\n",
              "1 -0.867883  0.557160 -0.303094  ... -0.231899  0.367166 -0.989717\n",
              "2 -0.867883  0.557160 -0.303094  ...  0.162055 -0.265812 -0.990125\n",
              "3 -0.752922  1.077737  0.113032  ... -0.329004 -0.809889 -1.106109\n",
              "4 -0.752922  1.077737  0.113032  ... -2.465920 -0.511180 -1.107891\n",
              "\n",
              "[5 rows x 12 columns]"
            ]
          },
          "metadata": {},
          "execution_count": 11
        }
      ]
    },
    {
      "cell_type": "code",
      "metadata": {
        "colab": {
          "base_uri": "https://localhost:8080/"
        },
        "id": "b4KPuvGKO2K6",
        "outputId": "5da62072-8a7e-4add-c5a5-0f9d7beff938"
      },
      "source": [
        "# Let us split the data in train, val, test set in 60%, 20%, 20% of the datasets respectively.\n",
        "# Reference: [3](scikit-learn, 2021)\n",
        "X_train, X_test, y_train, y_test = train_test_split(\n",
        "    X, y, test_size=0.2, random_state=1)\n",
        "X_train, X_val, y_train, y_val = train_test_split(\n",
        "    X_train, y_train, test_size=0.25, random_state=1)\n",
        "print(X_train.shape)\n",
        "print(X_test.shape)\n",
        "print(X_val.shape)"
      ],
      "execution_count": null,
      "outputs": [
        {
          "output_type": "stream",
          "name": "stdout",
          "text": [
            "(303, 12)\n",
            "(102, 12)\n",
            "(101, 12)\n"
          ]
        }
      ]
    },
    {
      "cell_type": "markdown",
      "metadata": {
        "id": "PJmrP3A24A_d"
      },
      "source": [
        "# c) Linear Regression Training"
      ]
    },
    {
      "cell_type": "markdown",
      "metadata": {
        "id": "unYSP5wEEIL4"
      },
      "source": [
        "Ridge Regression"
      ]
    },
    {
      "cell_type": "code",
      "metadata": {
        "colab": {
          "base_uri": "https://localhost:8080/"
        },
        "id": "x6jhbOBjU_TQ",
        "outputId": "d5b4b832-8718-40c9-a3f1-5e6a35b22dc7"
      },
      "source": [
        "# Reference: [4](Smith.edu, 2016)\n",
        "alphas = 10**np.linspace(10,-2,100)*0.5\n",
        "alphas"
      ],
      "execution_count": null,
      "outputs": [
        {
          "output_type": "execute_result",
          "data": {
            "text/plain": [
              "array([5.00000000e+09, 3.78231664e+09, 2.86118383e+09, 2.16438064e+09,\n",
              "       1.63727458e+09, 1.23853818e+09, 9.36908711e+08, 7.08737081e+08,\n",
              "       5.36133611e+08, 4.05565415e+08, 3.06795364e+08, 2.32079442e+08,\n",
              "       1.75559587e+08, 1.32804389e+08, 1.00461650e+08, 7.59955541e+07,\n",
              "       5.74878498e+07, 4.34874501e+07, 3.28966612e+07, 2.48851178e+07,\n",
              "       1.88246790e+07, 1.42401793e+07, 1.07721735e+07, 8.14875417e+06,\n",
              "       6.16423370e+06, 4.66301673e+06, 3.52740116e+06, 2.66834962e+06,\n",
              "       2.01850863e+06, 1.52692775e+06, 1.15506485e+06, 8.73764200e+05,\n",
              "       6.60970574e+05, 5.00000000e+05, 3.78231664e+05, 2.86118383e+05,\n",
              "       2.16438064e+05, 1.63727458e+05, 1.23853818e+05, 9.36908711e+04,\n",
              "       7.08737081e+04, 5.36133611e+04, 4.05565415e+04, 3.06795364e+04,\n",
              "       2.32079442e+04, 1.75559587e+04, 1.32804389e+04, 1.00461650e+04,\n",
              "       7.59955541e+03, 5.74878498e+03, 4.34874501e+03, 3.28966612e+03,\n",
              "       2.48851178e+03, 1.88246790e+03, 1.42401793e+03, 1.07721735e+03,\n",
              "       8.14875417e+02, 6.16423370e+02, 4.66301673e+02, 3.52740116e+02,\n",
              "       2.66834962e+02, 2.01850863e+02, 1.52692775e+02, 1.15506485e+02,\n",
              "       8.73764200e+01, 6.60970574e+01, 5.00000000e+01, 3.78231664e+01,\n",
              "       2.86118383e+01, 2.16438064e+01, 1.63727458e+01, 1.23853818e+01,\n",
              "       9.36908711e+00, 7.08737081e+00, 5.36133611e+00, 4.05565415e+00,\n",
              "       3.06795364e+00, 2.32079442e+00, 1.75559587e+00, 1.32804389e+00,\n",
              "       1.00461650e+00, 7.59955541e-01, 5.74878498e-01, 4.34874501e-01,\n",
              "       3.28966612e-01, 2.48851178e-01, 1.88246790e-01, 1.42401793e-01,\n",
              "       1.07721735e-01, 8.14875417e-02, 6.16423370e-02, 4.66301673e-02,\n",
              "       3.52740116e-02, 2.66834962e-02, 2.01850863e-02, 1.52692775e-02,\n",
              "       1.15506485e-02, 8.73764200e-03, 6.60970574e-03, 5.00000000e-03])"
            ]
          },
          "metadata": {},
          "execution_count": 13
        }
      ]
    },
    {
      "cell_type": "code",
      "metadata": {
        "colab": {
          "base_uri": "https://localhost:8080/"
        },
        "id": "TpLME_JdEKwI",
        "outputId": "975acc61-ae76-4f21-fc0c-d0197ec1f436"
      },
      "source": [
        "ridge=Ridge()\n",
        "parameters={'alpha':alphas}\n",
        "ridge_regressor=GridSearchCV(ridge,parameters,scoring='neg_mean_squared_error',cv=5)\n",
        "ridge_regressor.fit(X_train,y_train)"
      ],
      "execution_count": null,
      "outputs": [
        {
          "output_type": "execute_result",
          "data": {
            "text/plain": [
              "GridSearchCV(cv=5, error_score=nan,\n",
              "             estimator=Ridge(alpha=1.0, copy_X=True, fit_intercept=True,\n",
              "                             max_iter=None, normalize=False, random_state=None,\n",
              "                             solver='auto', tol=0.001),\n",
              "             iid='deprecated', n_jobs=None,\n",
              "             param_grid={'alpha': array([5.00000000e+09, 3.78231664e+09, 2.86118383e+09, 2.16438064e+09,\n",
              "       1.63727458e+09, 1.23853818e+09, 9.36908711e+08, 7.08737081e+08,\n",
              "       5.36133611...\n",
              "       1.00461650e+00, 7.59955541e-01, 5.74878498e-01, 4.34874501e-01,\n",
              "       3.28966612e-01, 2.48851178e-01, 1.88246790e-01, 1.42401793e-01,\n",
              "       1.07721735e-01, 8.14875417e-02, 6.16423370e-02, 4.66301673e-02,\n",
              "       3.52740116e-02, 2.66834962e-02, 2.01850863e-02, 1.52692775e-02,\n",
              "       1.15506485e-02, 8.73764200e-03, 6.60970574e-03, 5.00000000e-03])},\n",
              "             pre_dispatch='2*n_jobs', refit=True, return_train_score=False,\n",
              "             scoring='neg_mean_squared_error', verbose=0)"
            ]
          },
          "metadata": {},
          "execution_count": 14
        }
      ]
    },
    {
      "cell_type": "code",
      "metadata": {
        "colab": {
          "base_uri": "https://localhost:8080/"
        },
        "id": "9xyiBDhrEb61",
        "outputId": "092b59e5-b737-4686-88a9-0fcb5d0b71d0"
      },
      "source": [
        "print(ridge_regressor.best_params_)\n",
        "print(ridge_regressor.best_score_)"
      ],
      "execution_count": null,
      "outputs": [
        {
          "output_type": "stream",
          "name": "stdout",
          "text": [
            "{'alpha': 4.055654153948428}\n",
            "-26.190783928563484\n"
          ]
        }
      ]
    },
    {
      "cell_type": "markdown",
      "metadata": {
        "id": "UMmzifhmEWI9"
      },
      "source": [
        "Lasso Regression"
      ]
    },
    {
      "cell_type": "code",
      "metadata": {
        "colab": {
          "base_uri": "https://localhost:8080/"
        },
        "id": "z9SDmNOjEH7p",
        "outputId": "b87aa107-cfbe-420f-f903-9daa69f38d40"
      },
      "source": [
        "lasso=Lasso()\n",
        "parameters={'alpha':alphas}\n",
        "lasso_regressor=GridSearchCV(lasso,parameters,scoring='neg_mean_squared_error',cv=5)\n",
        "\n",
        "lasso_regressor.fit(X_train,y_train)"
      ],
      "execution_count": null,
      "outputs": [
        {
          "output_type": "execute_result",
          "data": {
            "text/plain": [
              "GridSearchCV(cv=5, error_score=nan,\n",
              "             estimator=Lasso(alpha=1.0, copy_X=True, fit_intercept=True,\n",
              "                             max_iter=1000, normalize=False, positive=False,\n",
              "                             precompute=False, random_state=None,\n",
              "                             selection='cyclic', tol=0.0001, warm_start=False),\n",
              "             iid='deprecated', n_jobs=None,\n",
              "             param_grid={'alpha': array([5.00000000e+09, 3.78231664e+09, 2.86118383e+09, 2.16438064e+09,\n",
              "       1.63727458e+09,...\n",
              "       1.00461650e+00, 7.59955541e-01, 5.74878498e-01, 4.34874501e-01,\n",
              "       3.28966612e-01, 2.48851178e-01, 1.88246790e-01, 1.42401793e-01,\n",
              "       1.07721735e-01, 8.14875417e-02, 6.16423370e-02, 4.66301673e-02,\n",
              "       3.52740116e-02, 2.66834962e-02, 2.01850863e-02, 1.52692775e-02,\n",
              "       1.15506485e-02, 8.73764200e-03, 6.60970574e-03, 5.00000000e-03])},\n",
              "             pre_dispatch='2*n_jobs', refit=True, return_train_score=False,\n",
              "             scoring='neg_mean_squared_error', verbose=0)"
            ]
          },
          "metadata": {},
          "execution_count": 16
        }
      ]
    },
    {
      "cell_type": "code",
      "metadata": {
        "colab": {
          "base_uri": "https://localhost:8080/"
        },
        "id": "FPdEWjuzEht6",
        "outputId": "95b2f59a-6ea9-4b3f-ef28-234d4f93ed7c"
      },
      "source": [
        "print(lasso_regressor.best_params_)\n",
        "print(lasso_regressor.best_score_)"
      ],
      "execution_count": null,
      "outputs": [
        {
          "output_type": "stream",
          "name": "stdout",
          "text": [
            "{'alpha': 0.01155064850041579}\n",
            "-26.2511741343866\n"
          ]
        }
      ]
    },
    {
      "cell_type": "code",
      "metadata": {
        "id": "XjTQLjtTFWvc"
      },
      "source": [
        "prediction_ridge_val_data=ridge_regressor.predict(X_val)\n",
        "prediction_lasso_val_data=lasso_regressor.predict(X_val)"
      ],
      "execution_count": null,
      "outputs": []
    },
    {
      "cell_type": "code",
      "metadata": {
        "colab": {
          "base_uri": "https://localhost:8080/"
        },
        "id": "5EUv93Ru8HWP",
        "outputId": "db61777f-5d8a-4cc1-93d6-909e6531579d"
      },
      "source": [
        "print(\"Ridge - r2 - val\")\n",
        "print(r2_score(y_val, prediction_ridge_val_data))\n",
        "print(\"Lesso r2 - val\")\n",
        "print(r2_score(y_val, prediction_lasso_val_data))"
      ],
      "execution_count": null,
      "outputs": [
        {
          "output_type": "stream",
          "name": "stdout",
          "text": [
            "Ridge - r2 - val\n",
            "0.7081951331514484\n",
            "Lesso r2 - val\n",
            "0.7030946422624362\n"
          ]
        }
      ]
    },
    {
      "cell_type": "code",
      "metadata": {
        "colab": {
          "base_uri": "https://localhost:8080/",
          "height": 279
        },
        "id": "DsiyLdLrFzZl",
        "outputId": "6aaf24e6-b4f0-492f-c36f-445cf1d4dbef"
      },
      "source": [
        "fig, ax =plt.subplots(1,2)\n",
        "sns.histplot(y_val-prediction_ridge_val_data, ax=ax[0], kde=True)\n",
        "sns.histplot(y_val-prediction_lasso_val_data, ax=ax[1], kde=True)\n",
        "fig.show()"
      ],
      "execution_count": null,
      "outputs": [
        {
          "output_type": "display_data",
          "data": {
            "image/png": "[encoded data removed]",
            "text/plain": [
              "<Figure size 432x288 with 2 Axes>"
            ]
          },
          "metadata": {
            "needs_background": "light"
          }
        }
      ]
    },
    {
      "cell_type": "markdown",
      "metadata": {
        "id": "3gV80YJq4JfZ"
      },
      "source": [
        "# d) Inference"
      ]
    },
    {
      "cell_type": "markdown",
      "metadata": {
        "id": "xUQ9XE_08bay"
      },
      "source": [
        "# Now evaluating the models on the test set\n",
        "As there was very less amount of difference in the r2 score between the two models, we are going to do the inference on different matrics on both the model rather than selecting just one best performing model."
      ]
    },
    {
      "cell_type": "code",
      "metadata": {
        "id": "IZ4KnJRuFVWL"
      },
      "source": [
        "pred_ridge_test_data=ridge_regressor.predict(X_test)\n",
        "pred_lasso_test_data=lasso_regressor.predict(X_test)"
      ],
      "execution_count": null,
      "outputs": []
    },
    {
      "cell_type": "code",
      "metadata": {
        "colab": {
          "base_uri": "https://localhost:8080/",
          "height": 279
        },
        "id": "EEHKTP2mHCrj",
        "outputId": "4c1cd9a5-8bd3-456d-c01a-afa2af8781fe"
      },
      "source": [
        "fig, ax =plt.subplots(1,2)\n",
        "sns.histplot(y_test-pred_ridge_test_data, ax=ax[0], kde=True)\n",
        "sns.histplot(y_test-pred_lasso_test_data, ax=ax[1], kde=True)\n",
        "fig.show()"
      ],
      "execution_count": null,
      "outputs": [
        {
          "output_type": "display_data",
          "data": {
            "image/png": "[encoded data removed]",
            "text/plain": [
              "<Figure size 432x288 with 2 Axes>"
            ]
          },
          "metadata": {
            "needs_background": "light"
          }
        }
      ]
    },
    {
      "cell_type": "code",
      "metadata": {
        "colab": {
          "base_uri": "https://localhost:8080/"
        },
        "id": "A0oQdOAzIj0y",
        "outputId": "89bab2a6-e415-4430-dc4f-c40fd08e223a"
      },
      "source": [
        "eval_data = {'RMSE': [np.sqrt(mean_squared_error(y_test,pred_ridge_test_data)), np.sqrt(mean_squared_error(y_test,pred_lasso_test_data))], \n",
        "             'MSE': [mean_squared_error(y_test,pred_ridge_test_data), mean_squared_error(y_test,pred_lasso_test_data)],\n",
        "             'MAE': [mean_absolute_error(y_test,pred_ridge_test_data), mean_absolute_error(y_test,pred_lasso_test_data)], \n",
        "             'R2': [r2_score(y_test, pred_ridge_test_data), r2_score(y_test, pred_lasso_test_data)]}  \n",
        "eval_data_df = pd.DataFrame(eval_data, index =['Ridge', 'Lasso'])  \n",
        "print(eval_data_df)"
      ],
      "execution_count": null,
      "outputs": [
        {
          "output_type": "stream",
          "name": "stdout",
          "text": [
            "           RMSE        MSE       MAE        R2\n",
            "Ridge  5.147755  26.499378  3.946303  0.731862\n",
            "Lasso  5.149696  26.519371  3.950041  0.731660\n"
          ]
        }
      ]
    },
    {
      "cell_type": "markdown",
      "metadata": {
        "id": "h-ZhZgjW321i"
      },
      "source": [
        "# e) Feature Importance"
      ]
    },
    {
      "cell_type": "code",
      "metadata": {
        "colab": {
          "base_uri": "https://localhost:8080/",
          "height": 540
        },
        "id": "98XbsiA1ZalG",
        "outputId": "e140f319-0fcb-43c2-ae75-5511446331d3"
      },
      "source": [
        "#Reference source: [5] (MachineLearningMastery, 2020)\n",
        "# get importance\n",
        "importance = ridge_regressor.best_estimator_.coef_\n",
        "# summarize feature importance\n",
        "for i,v in enumerate(importance):\n",
        "\tprint('ColumnIndex: {0}, Feature: {1}, Score: {2:.5f}'.format(i, df.columns[i],v))\n",
        "# plot feature importance\n",
        "sns.barplot([x for x in range(len(importance))], importance)"
      ],
      "execution_count": null,
      "outputs": [
        {
          "output_type": "stream",
          "name": "stdout",
          "text": [
            "ColumnIndex: 0, Feature: Variety, Score: 2.32501\n",
            "ColumnIndex: 1, Feature: S_1, Score: -2.66646\n",
            "ColumnIndex: 2, Feature: S_2, Score: -1.83349\n",
            "ColumnIndex: 3, Feature: S_3, Score: 0.65963\n",
            "ColumnIndex: 4, Feature: S_4, Score: -4.80030\n",
            "ColumnIndex: 5, Feature: M_1, Score: -0.95643\n",
            "ColumnIndex: 6, Feature: M_2, Score: 1.48067\n",
            "ColumnIndex: 7, Feature: M_3, Score: 1.67835\n",
            "ColumnIndex: 8, Feature: W_1, Score: -0.19148\n",
            "ColumnIndex: 9, Feature: W_2, Score: -0.84262\n",
            "ColumnIndex: 10, Feature: W_3, Score: 0.16745\n",
            "ColumnIndex: 11, Feature: W_4, Score: -1.82571\n"
          ]
        },
        {
          "output_type": "stream",
          "name": "stderr",
          "text": [
            "/usr/local/lib/python3.7/dist-packages/seaborn/_decorators.py:43: FutureWarning: Pass the following variables as keyword args: x, y. From version 0.12, the only valid positional argument will be `data`, and passing other arguments without an explicit keyword will result in an error or misinterpretation.\n",
            "  FutureWarning\n"
          ]
        },
        {
          "output_type": "execute_result",
          "data": {
            "text/plain": [
              "<matplotlib.axes._subplots.AxesSubplot at 0x7f37891b15d0>"
            ]
          },
          "metadata": {},
          "execution_count": 24
        },
        {
          "output_type": "display_data",
          "data": {
            "image/png": "[encoded data removed]",
            "text/plain": [
              "<Figure size 432x288 with 1 Axes>"
            ]
          },
          "metadata": {
            "needs_background": "light"
          }
        }
      ]
    },
    {
      "cell_type": "markdown",
      "metadata": {
        "id": "2Q3quPfNeIVf"
      },
      "source": [
        "### Experimenting by retraining the model on most important features."
      ]
    },
    {
      "cell_type": "code",
      "metadata": {
        "colab": {
          "base_uri": "https://localhost:8080/"
        },
        "id": "SUe8wrHwQwi4",
        "outputId": "7043d996-7333-443c-be0a-b13c689b8586"
      },
      "source": [
        "# retraining model keeping important features\n",
        "y = df['Yield'] #dependant feature\n",
        "# axis 1 tells python that you want to apply function on columns\n",
        "X = pd.DataFrame(std.fit_transform(df.drop(['Yield', 'S_1', 'S_3', 'M_1', 'M_2', 'W_3'], axis=1))) # independant features,\n",
        "X.head"
      ],
      "execution_count": null,
      "outputs": [
        {
          "output_type": "execute_result",
          "data": {
            "text/plain": [
              "<bound method NDFrame.head of             0         1         2         3         4         5         6\n",
              "0   -0.982843 -1.459000 -1.075562  0.413672 -1.275092 -0.417242 -0.664647\n",
              "1   -0.867883 -0.303094 -0.492439  0.194274 -0.591726 -0.231899 -0.989717\n",
              "2   -0.867883 -0.303094 -1.208727  1.282714 -0.617113  0.162055 -0.990125\n",
              "3   -0.752922  0.113032 -1.361517  1.016303 -1.296102 -0.329004 -1.106109\n",
              "4   -0.752922  0.113032 -1.026501  1.228577 -1.333772 -2.465920 -1.107891\n",
              "..        ...       ...       ...       ...       ...       ...       ...\n",
              "501 -0.982843  1.176466 -0.418147  0.439316  0.093644  0.078295 -0.803619\n",
              "502 -0.982843  1.176466 -0.500850 -0.234548  0.095275  0.059744 -0.801766\n",
              "503 -0.982843  1.176466 -0.983048  0.984960  0.105324  1.246801 -0.800831\n",
              "504 -0.982843  1.176466 -0.865302  0.725672  0.092352  0.704076 -0.797910\n",
              "505 -0.982843  1.176466 -0.669058 -0.362767  0.127673  0.355025 -0.799633\n",
              "\n",
              "[506 rows x 7 columns]>"
            ]
          },
          "metadata": {},
          "execution_count": 25
        }
      ]
    },
    {
      "cell_type": "code",
      "metadata": {
        "colab": {
          "base_uri": "https://localhost:8080/"
        },
        "id": "NgLswzrSSOf_",
        "outputId": "4de31df1-4098-414e-87c2-1cd94ca66e52"
      },
      "source": [
        "#Let us split the data in train, val, test set in 60%, 20%, 20% of the datasets respectively.\n",
        "X_train, X_val, y_train, y_val = train_test_split(\n",
        "    X, y, test_size=0.2, random_state=1)\n",
        "X_train, X_test, y_train, y_test = train_test_split(\n",
        "    X_train, y_train, test_size=0.25, random_state=1)\n",
        "print(X_train.shape)\n",
        "print(X_test.shape)\n",
        "print(X_val.shape)"
      ],
      "execution_count": null,
      "outputs": [
        {
          "output_type": "stream",
          "name": "stdout",
          "text": [
            "(303, 7)\n",
            "(101, 7)\n",
            "(102, 7)\n"
          ]
        }
      ]
    },
    {
      "cell_type": "code",
      "metadata": {
        "colab": {
          "base_uri": "https://localhost:8080/"
        },
        "id": "7Mb9JgW7SPRx",
        "outputId": "35ab9b71-a292-4620-ab65-20aea006356e"
      },
      "source": [
        "lasso=Lasso()\n",
        "parameters={'alpha':alphas}\n",
        "lasso_regressor1=GridSearchCV(lasso,parameters,scoring='neg_mean_squared_error',cv=5)\n",
        "# lasso_regressor=GridSearchCV(lasso,parameters)\n",
        "\n",
        "lasso_regressor1.fit(X_train,y_train)"
      ],
      "execution_count": null,
      "outputs": [
        {
          "output_type": "execute_result",
          "data": {
            "text/plain": [
              "GridSearchCV(cv=5, error_score=nan,\n",
              "             estimator=Lasso(alpha=1.0, copy_X=True, fit_intercept=True,\n",
              "                             max_iter=1000, normalize=False, positive=False,\n",
              "                             precompute=False, random_state=None,\n",
              "                             selection='cyclic', tol=0.0001, warm_start=False),\n",
              "             iid='deprecated', n_jobs=None,\n",
              "             param_grid={'alpha': array([5.00000000e+09, 3.78231664e+09, 2.86118383e+09, 2.16438064e+09,\n",
              "       1.63727458e+09,...\n",
              "       1.00461650e+00, 7.59955541e-01, 5.74878498e-01, 4.34874501e-01,\n",
              "       3.28966612e-01, 2.48851178e-01, 1.88246790e-01, 1.42401793e-01,\n",
              "       1.07721735e-01, 8.14875417e-02, 6.16423370e-02, 4.66301673e-02,\n",
              "       3.52740116e-02, 2.66834962e-02, 2.01850863e-02, 1.52692775e-02,\n",
              "       1.15506485e-02, 8.73764200e-03, 6.60970574e-03, 5.00000000e-03])},\n",
              "             pre_dispatch='2*n_jobs', refit=True, return_train_score=False,\n",
              "             scoring='neg_mean_squared_error', verbose=0)"
            ]
          },
          "metadata": {},
          "execution_count": 27
        }
      ]
    },
    {
      "cell_type": "code",
      "metadata": {
        "colab": {
          "base_uri": "https://localhost:8080/"
        },
        "id": "wi96Hp94dHfI",
        "outputId": "839718bb-b13a-4495-b3af-76be89e6445e"
      },
      "source": [
        "print(lasso_regressor1.best_params_)\n",
        "print(lasso_regressor1.best_score_)"
      ],
      "execution_count": null,
      "outputs": [
        {
          "output_type": "stream",
          "name": "stdout",
          "text": [
            "{'alpha': 0.006609705742330144}\n",
            "-29.27095316686809\n"
          ]
        }
      ]
    },
    {
      "cell_type": "code",
      "metadata": {
        "colab": {
          "base_uri": "https://localhost:8080/"
        },
        "id": "B5TRZHa8dWD6",
        "outputId": "c7fbe0e3-de03-4eeb-ba92-49c845676f71"
      },
      "source": [
        "ridge=Ridge()\n",
        "parameters={'alpha':alphas}\n",
        "\n",
        "ridge_regressor1=GridSearchCV(ridge,parameters,scoring='neg_mean_squared_error',cv=5)\n",
        "# ridge_regressor=GridSearchCV(ridge,parameters)\n",
        "\n",
        "ridge_regressor1.fit(X_train,y_train)"
      ],
      "execution_count": null,
      "outputs": [
        {
          "output_type": "execute_result",
          "data": {
            "text/plain": [
              "GridSearchCV(cv=5, error_score=nan,\n",
              "             estimator=Ridge(alpha=1.0, copy_X=True, fit_intercept=True,\n",
              "                             max_iter=None, normalize=False, random_state=None,\n",
              "                             solver='auto', tol=0.001),\n",
              "             iid='deprecated', n_jobs=None,\n",
              "             param_grid={'alpha': array([5.00000000e+09, 3.78231664e+09, 2.86118383e+09, 2.16438064e+09,\n",
              "       1.63727458e+09, 1.23853818e+09, 9.36908711e+08, 7.08737081e+08,\n",
              "       5.36133611...\n",
              "       1.00461650e+00, 7.59955541e-01, 5.74878498e-01, 4.34874501e-01,\n",
              "       3.28966612e-01, 2.48851178e-01, 1.88246790e-01, 1.42401793e-01,\n",
              "       1.07721735e-01, 8.14875417e-02, 6.16423370e-02, 4.66301673e-02,\n",
              "       3.52740116e-02, 2.66834962e-02, 2.01850863e-02, 1.52692775e-02,\n",
              "       1.15506485e-02, 8.73764200e-03, 6.60970574e-03, 5.00000000e-03])},\n",
              "             pre_dispatch='2*n_jobs', refit=True, return_train_score=False,\n",
              "             scoring='neg_mean_squared_error', verbose=0)"
            ]
          },
          "metadata": {},
          "execution_count": 29
        }
      ]
    },
    {
      "cell_type": "code",
      "metadata": {
        "colab": {
          "base_uri": "https://localhost:8080/"
        },
        "id": "VP1ii--adW9-",
        "outputId": "6b260d2c-cc5d-43b4-8c6e-b1caa204f213"
      },
      "source": [
        "print(ridge_regressor1.best_params_)\n",
        "print(ridge_regressor1.best_score_)"
      ],
      "execution_count": null,
      "outputs": [
        {
          "output_type": "stream",
          "name": "stdout",
          "text": [
            "{'alpha': 4.055654153948428}\n",
            "-29.223291642303714\n"
          ]
        }
      ]
    },
    {
      "cell_type": "code",
      "metadata": {
        "id": "7s_aP81LTaf4"
      },
      "source": [
        "prediction_lasso_val_data=lasso_regressor1.predict(X_val)\n",
        "prediction_ridge_val_data=ridge_regressor1.predict(X_val)"
      ],
      "execution_count": null,
      "outputs": []
    },
    {
      "cell_type": "code",
      "metadata": {
        "colab": {
          "base_uri": "https://localhost:8080/"
        },
        "id": "K5fGCocpSgbQ",
        "outputId": "ea568ebe-45af-449d-8b57-acca816ce552"
      },
      "source": [
        "print(\"Lesso r2 - val\")\n",
        "print(r2_score(y_val, prediction_lasso_val_data))"
      ],
      "execution_count": null,
      "outputs": [
        {
          "output_type": "stream",
          "name": "stdout",
          "text": [
            "Lesso r2 - val\n",
            "0.6937418339856365\n"
          ]
        }
      ]
    },
    {
      "cell_type": "code",
      "metadata": {
        "colab": {
          "base_uri": "https://localhost:8080/"
        },
        "id": "4bYsrLmCfn3p",
        "outputId": "1e5ab04c-07ef-42aa-aff1-e462310ffad6"
      },
      "source": [
        "print(\"Ridge r2 - val\")\n",
        "print(r2_score(y_val, prediction_ridge_val_data))"
      ],
      "execution_count": null,
      "outputs": [
        {
          "output_type": "stream",
          "name": "stdout",
          "text": [
            "Ridge r2 - val\n",
            "0.6922876160884177\n"
          ]
        }
      ]
    },
    {
      "cell_type": "code",
      "metadata": {
        "id": "TvkYmseknQde"
      },
      "source": [
        "pred_ridge_test_data1=ridge_regressor1.predict(X_test)\n",
        "pred_lasso_test_data1=lasso_regressor1.predict(X_test)"
      ],
      "execution_count": null,
      "outputs": []
    },
    {
      "cell_type": "code",
      "metadata": {
        "colab": {
          "base_uri": "https://localhost:8080/"
        },
        "id": "g1lgEXpdnGDU",
        "outputId": "ec7b9e81-012e-4684-dba9-0492c9849deb"
      },
      "source": [
        "re_eval_data = {'RMSE': [np.sqrt(mean_squared_error(y_test,pred_ridge_test_data1)), np.sqrt(mean_squared_error(y_test,pred_lasso_test_data1))], \n",
        "             'MSE': [mean_squared_error(y_test,pred_ridge_test_data1), mean_squared_error(y_test,pred_lasso_test_data1)],\n",
        "             'MAE': [mean_absolute_error(y_test,pred_ridge_test_data1), mean_absolute_error(y_test,pred_lasso_test_data1)], \n",
        "             'R2': [r2_score(y_test, pred_ridge_test_data1), r2_score(y_test, pred_lasso_test_data1)]}  \n",
        "re_eval_data = pd.DataFrame(re_eval_data, index =['Ridge', 'Lasso'])  \n",
        "print(re_eval_data)"
      ],
      "execution_count": null,
      "outputs": [
        {
          "output_type": "stream",
          "name": "stdout",
          "text": [
            "           RMSE        MSE       MAE        R2\n",
            "Ridge  4.812180  23.157077  3.708570  0.687967\n",
            "Lasso  4.840482  23.430270  3.718935  0.684285\n"
          ]
        }
      ]
    },
    {
      "cell_type": "markdown",
      "metadata": {
        "id": "gQl3fxiqz7mS"
      },
      "source": [
        "# References\n",
        "1. Pydata.org. (2021). DataFrame — pandas 1.3.4 documentation. [online] Available at: https://pandas.pydata.org/docs/reference/frame.html [Accessed 22 Oct. 2021].\n",
        "\n",
        "2. Pydata.org. (2012). seaborn.histplot — seaborn 0.11.2 documentation. [online] Available at: https://seaborn.pydata.org/generated/seaborn.histplot.html [Accessed 23 Oct. 2021].\n",
        "\n",
        "3. scikit-learn. (2021). sklearn.model_selection.train_test_split. [online] Available at: https://scikit-learn.org/stable/modules/generated/sklearn.model_selection.train_test_split.html [Accessed 23 Oct. 2021].\n",
        "\n",
        "4. Smith.edu. (2016). Lab 10 - Ridge Regression and the Lasso in Python. [online] Available at: http://www.science.smith.edu/~jcrouser/SDS293/labs/lab10-py.html [Accessed 24 Oct. 2021].\n",
        "\n",
        "5. https://www.facebook.com/MachineLearningMastery (2020). How to Calculate Feature Importance With Python. [online] Machine Learning Mastery. Available at: https://machinelearningmastery.com/calculate-feature-importance-with-python/ [Accessed 25 Oct. 2021].\n",
        "\n",
        "‌\n",
        "‌\n",
        "‌\n",
        "\n",
        "\n",
        "‌"
      ]
    }
  ]
}